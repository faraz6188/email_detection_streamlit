{
 "cells": [
  {
   "cell_type": "code",
   "execution_count": null,
   "id": "86713bab-26dd-4fdb-9047-8ef6a624db7d",
   "metadata": {},
   "outputs": [],
   "source": [
    "import pandas as pd\n",
    "import sklearn\n",
    "import joblib\n",
    "\n",
    "df = pd.read_csv(r\"/Users/mdfarazali/Documents/AI ML/Projects/email spam or ham/spam.csv\", encoding='ISO-8859-1')\n",
    "\n",
    "df.drop(columns= ['Unnamed: 2','Unnamed: 3','Unnamed: 4'])\n",
    "\n",
    "from sklearn.preprocessing import LabelEncoder\n",
    "encoder = LabelEncoder()\n",
    "\n",
    "df['Detect']= encoder.fit_transform(df['v1'])\n",
    "\n",
    "x=df['v2']\n",
    "y=df['Detect']\n",
    "\n",
    "from sklearn.feature_extraction.text import CountVectorizer\n",
    "vec = CountVectorizer()\n",
    "x_vectorized = vec.fit_transform(x)  \n",
    "\n",
    "joblib.dump(vec,r\"/Users/mdfarazali/Documents/AI ML/Projects/email spam or ham/vectorizer.h5\")\n",
    "\n",
    "from sklearn.naive_bayes import MultinomialNB\n",
    "model = MultinomialNB()\n",
    "model.fit(x_vectorized, y)\n",
    "\n",
    "import re\n",
    "def textclean(txt):\n",
    "    txt = txt.lower()\n",
    "    txt = re.sub(r'\\d+', '_', txt)\n",
    "    txt = re.sub(r'\\W+', ' ', txt)\n",
    "    txt = txt.strip()\n",
    "    return txt\n",
    "\n",
    "def predict(email):\n",
    "    cleanemail = textclean(email)\n",
    "    vectorized_email = vec.transform([cleanemail])  \n",
    "    prediction = model.predict(vectorized_email) \n",
    "    return 'spam' if prediction[0] == 1 else 'ham'"
   ]
  },
  {
   "cell_type": "code",
   "execution_count": 4,
   "id": "0913eb34-20d4-4b94-83ff-b2329d9778ca",
   "metadata": {},
   "outputs": [
    {
     "name": "stdout",
     "output_type": "stream",
     "text": [
      "spam\n"
     ]
    }
   ],
   "source": [
    "emailtext = \"Congratulations! You've won a $1,000 gift card. Click here to claim your prize now!\"\n",
    "result = predict(emailtext)\n",
    "print(result)"
   ]
  },
  {
   "cell_type": "code",
   "execution_count": 7,
   "id": "962b924e-5ad7-4868-8c1a-9dd898835040",
   "metadata": {},
   "outputs": [
    {
     "name": "stdout",
     "output_type": "stream",
     "text": [
      "ham\n"
     ]
    }
   ],
   "source": [
    "emailtext = \"Wish for your bday\"\n",
    "result = predict(emailtext)\n",
    "print(result)"
   ]
  },
  {
   "cell_type": "code",
   "execution_count": 8,
   "id": "0a0a8a90-b350-4594-8017-b9707fc55e40",
   "metadata": {},
   "outputs": [],
   "source": [
    "import joblib"
   ]
  },
  {
   "cell_type": "code",
   "execution_count": null,
   "id": "202c8b94-51ac-4cda-9881-18118822cbf4",
   "metadata": {},
   "outputs": [],
   "source": [
    "joblib.dump(model,\"ed.h5\")"
   ]
  },
  {
   "cell_type": "code",
   "execution_count": null,
   "id": "f19b58ba",
   "metadata": {},
   "outputs": [],
   "source": [
    "import joblib\n",
    "\n",
    "model=joblib.load('email_ detection.h5')"
   ]
  },
  {
   "cell_type": "code",
   "execution_count": null,
   "id": "770e934d",
   "metadata": {},
   "outputs": [],
   "source": [
    "model.predict([[\"Today is the day\"]])"
   ]
  },
  {
   "cell_type": "code",
   "execution_count": null,
   "id": "4e43b4a9",
   "metadata": {},
   "outputs": [],
   "source": []
  },
  {
   "cell_type": "code",
   "execution_count": null,
   "id": "399863a6",
   "metadata": {},
   "outputs": [],
   "source": []
  }
 ],
 "metadata": {
  "kernelspec": {
   "display_name": "Python 3 (ipykernel)",
   "language": "python",
   "name": "python3"
  },
  "language_info": {
   "codemirror_mode": {
    "name": "ipython",
    "version": 3
   },
   "file_extension": ".py",
   "mimetype": "text/x-python",
   "name": "python",
   "nbconvert_exporter": "python",
   "pygments_lexer": "ipython3",
   "version": "3.12.0"
  }
 },
 "nbformat": 4,
 "nbformat_minor": 5
}
